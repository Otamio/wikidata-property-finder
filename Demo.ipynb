{
 "cells": [
  {
   "cell_type": "code",
   "execution_count": 1,
   "metadata": {},
   "outputs": [],
   "source": [
    "from requests import get"
   ]
  },
  {
   "cell_type": "markdown",
   "metadata": {},
   "source": [
    "#### Query for the string"
   ]
  },
  {
   "cell_type": "code",
   "execution_count": 4,
   "metadata": {
    "scrolled": true
   },
   "outputs": [
    {
     "data": {
      "text/plain": [
       "[{'qnode': 'P585',\n",
       "  'description': 'time and date something took place, existed or a statement was true',\n",
       "  'label': ['point in time'],\n",
       "  'alias': ['during',\n",
       "   'time of event',\n",
       "   'event date',\n",
       "   'year',\n",
       "   'as of',\n",
       "   'when',\n",
       "   'on',\n",
       "   'at time',\n",
       "   'time',\n",
       "   'date'],\n",
       "  'score': 15.836705741265886,\n",
       "  'data_type': 'time'},\n",
       " {'qnode': 'P421',\n",
       "  'description': 'time zone for this item',\n",
       "  'label': ['located in time zone'],\n",
       "  'alias': ['TZ', 'time zone', 'timezone', 'time'],\n",
       "  'score': 14.445394137663635,\n",
       "  'data_type': 'wikibase-item'},\n",
       " {'qnode': 'P582',\n",
       "  'description': 'time an item ceases to exist or a statement stops being valid',\n",
       "  'label': ['end time'],\n",
       "  'alias': ['left office',\n",
       "   'ends',\n",
       "   'cease operation',\n",
       "   'ending',\n",
       "   'completed in',\n",
       "   'divorced',\n",
       "   'enddate',\n",
       "   'cease time',\n",
       "   'closed',\n",
       "   'fall date',\n",
       "   'stop time',\n",
       "   'dissolved',\n",
       "   'till',\n",
       "   'until',\n",
       "   'to',\n",
       "   'cease date',\n",
       "   'endtime',\n",
       "   'end date'],\n",
       "  'score': 10.82400088762484,\n",
       "  'data_type': 'time'}]"
      ]
     },
     "execution_count": 4,
     "metadata": {},
     "output_type": "execute_result"
    }
   ],
   "source": [
    "get('http://localhost:12576/search?label=time&size=3').json()"
   ]
  },
  {
   "cell_type": "markdown",
   "metadata": {},
   "source": [
    "#### Query for the label with data_type"
   ]
  },
  {
   "cell_type": "code",
   "execution_count": 6,
   "metadata": {},
   "outputs": [
    {
     "data": {
      "text/plain": [
       "[{'qnode': 'P585',\n",
       "  'description': 'time and date something took place, existed or a statement was true',\n",
       "  'label': ['point in time'],\n",
       "  'alias': ['during',\n",
       "   'time of event',\n",
       "   'event date',\n",
       "   'year',\n",
       "   'as of',\n",
       "   'when',\n",
       "   'on',\n",
       "   'at time',\n",
       "   'time',\n",
       "   'date'],\n",
       "  'score': 15.836705741265886,\n",
       "  'data_type': 'time'}]"
      ]
     },
     "execution_count": 6,
     "metadata": {},
     "output_type": "execute_result"
    }
   ],
   "source": [
    "# type==time\n",
    "get('http://localhost:12576/search?label=time&data_type=time&size=1').json()"
   ]
  },
  {
   "cell_type": "code",
   "execution_count": 7,
   "metadata": {},
   "outputs": [
    {
     "data": {
      "text/plain": [
       "[{'qnode': 'P421',\n",
       "  'description': 'time zone for this item',\n",
       "  'label': ['located in time zone'],\n",
       "  'alias': ['TZ', 'time zone', 'timezone', 'time'],\n",
       "  'score': 14.445394137663635,\n",
       "  'data_type': 'wikibase-item'}]"
      ]
     },
     "execution_count": 7,
     "metadata": {},
     "output_type": "execute_result"
    }
   ],
   "source": [
    "#type==wikibase-item\n",
    "get('http://localhost:12576/search?label=time&data_type=wikibase-item&size=1').json()"
   ]
  },
  {
   "cell_type": "markdown",
   "metadata": {},
   "source": [
    "#### Query for label with scope"
   ]
  },
  {
   "cell_type": "code",
   "execution_count": 14,
   "metadata": {},
   "outputs": [
    {
     "data": {
      "text/plain": [
       "[{'qnode': 'P447',\n",
       "  'description': 'issuer of a review score',\n",
       "  'label': ['review score by'],\n",
       "  'alias': ['score issuer', 'scorer', 'reviewer', 'publication'],\n",
       "  'score': 10.00624706431785,\n",
       "  'data_type': 'wikibase-item'}]"
      ]
     },
     "execution_count": 14,
     "metadata": {},
     "output_type": "execute_result"
    }
   ],
   "source": [
    "# Query for qualifiers\n",
    "get('http://localhost:12576/search?label=score&scope=qualifier&size=1').json()"
   ]
  },
  {
   "cell_type": "code",
   "execution_count": 15,
   "metadata": {
    "scrolled": true
   },
   "outputs": [
    {
     "data": {
      "text/plain": [
       "[{'qnode': 'P1363',\n",
       "  'description': 'person who scored a point or goal in a game',\n",
       "  'label': ['points/goal scored by'],\n",
       "  'alias': ['scorer', 'scored by', 'goal scored by', 'points scored by'],\n",
       "  'score': 7.058836858883161,\n",
       "  'data_type': 'wikibase-item'}]"
      ]
     },
     "execution_count": 15,
     "metadata": {},
     "output_type": "execute_result"
    }
   ],
   "source": [
    "# Query for main values\n",
    "get('http://localhost:12576/search?label=score&scope=main value&size=1').json()"
   ]
  },
  {
   "cell_type": "markdown",
   "metadata": {},
   "source": [
    "#### Query for qualifiers with constraint on the property being modified"
   ]
  },
  {
   "cell_type": "code",
   "execution_count": 20,
   "metadata": {},
   "outputs": [
    {
     "data": {
      "text/plain": [
       "[{'qnode': 'P585',\n",
       "  'description': 'time and date something took place, existed or a statement was true',\n",
       "  'label': ['point in time'],\n",
       "  'alias': ['during',\n",
       "   'time of event',\n",
       "   'event date',\n",
       "   'year',\n",
       "   'as of',\n",
       "   'when',\n",
       "   'on',\n",
       "   'at time',\n",
       "   'time',\n",
       "   'date'],\n",
       "  'score': 15.836705741265886,\n",
       "  'data_type': 'time'}]"
      ]
     },
     "execution_count": 20,
     "metadata": {},
     "output_type": "execute_result"
    }
   ],
   "source": [
    "get('http://localhost:12576/search?label=time&size=1').json()"
   ]
  },
  {
   "cell_type": "code",
   "execution_count": 22,
   "metadata": {},
   "outputs": [
    {
     "data": {
      "text/plain": [
       "[{'qnode': 'P582',\n",
       "  'description': 'time an item ceases to exist or a statement stops being valid',\n",
       "  'label': ['end time'],\n",
       "  'alias': ['left office',\n",
       "   'ends',\n",
       "   'cease operation',\n",
       "   'ending',\n",
       "   'completed in',\n",
       "   'divorced',\n",
       "   'enddate',\n",
       "   'cease time',\n",
       "   'closed',\n",
       "   'fall date',\n",
       "   'stop time',\n",
       "   'dissolved',\n",
       "   'till',\n",
       "   'until',\n",
       "   'to',\n",
       "   'cease date',\n",
       "   'endtime',\n",
       "   'end date'],\n",
       "  'score': 10.82400088762484,\n",
       "  'data_type': 'time'}]"
      ]
     },
     "execution_count": 22,
     "metadata": {},
     "output_type": "execute_result"
    }
   ],
   "source": [
    "# Query for a property that modifies P485 (archives at)\n",
    "get('http://localhost:12576/search?label=time&constraint=P485&size=1').json()"
   ]
  },
  {
   "cell_type": "code",
   "execution_count": null,
   "metadata": {},
   "outputs": [],
   "source": []
  }
 ],
 "metadata": {
  "kernelspec": {
   "display_name": "Python (kgtk-env)",
   "language": "python",
   "name": "kgtk-env"
  },
  "language_info": {
   "codemirror_mode": {
    "name": "ipython",
    "version": 3
   },
   "file_extension": ".py",
   "mimetype": "text/x-python",
   "name": "python",
   "nbconvert_exporter": "python",
   "pygments_lexer": "ipython3",
   "version": "3.7.8"
  }
 },
 "nbformat": 4,
 "nbformat_minor": 4
}
